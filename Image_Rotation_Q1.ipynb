{
 "cells": [
  {
   "cell_type": "code",
   "execution_count": 2,
   "id": "c2d52889",
   "metadata": {},
   "outputs": [],
   "source": [
    "import cv2\n",
    "\n",
    "# Reading an image in default mode\n",
    "src = cv2.imread(\"C:\\\\Users\\\\Admin\\\\Downloads\\\\111.jpg\",1)\n",
    "\n",
    "# Window name in which image is displayed\n",
    "window_name = 'Image rotate 90 deg'\n",
    "\n",
    "# Using cv2.rotate() method\n",
    "# Using cv2.ROTATE_90_CLOCKWISE rotate\n",
    "# by 90 degrees clockwise\n",
    "image_90 = cv2.rotate(src, cv2.ROTATE_90_CLOCKWISE)\n",
    "\n",
    "# Displaying the image\n",
    "cv2.imshow(window_name, image_90)\n",
    "\n",
    "cv2.waitKey(0)\n",
    "cv2.destroyAllWindows()"
   ]
  },
  {
   "cell_type": "code",
   "execution_count": 3,
   "id": "71913db1",
   "metadata": {},
   "outputs": [],
   "source": [
    "image_180 = cv2.rotate(src, cv2.ROTATE_180)\n",
    "\n",
    "# Displaying the image\n",
    "\n",
    "cv2.imshow(\"180 degree\",image_180)\n",
    "cv2.waitKey(0)\n",
    "cv2.destroyAllWindows()"
   ]
  },
  {
   "cell_type": "code",
   "execution_count": 6,
   "id": "99039be1",
   "metadata": {},
   "outputs": [],
   "source": [
    "image_270 = cv2.rotate(src, cv2.ROTATE_90_COUNTERCLOCKWISE)\n",
    "\n",
    "# Displaying the image\n",
    "\n",
    "cv2.imshow(\"270 degree\",image_270)\n",
    "cv2.waitKey(0)\n",
    "cv2.destroyAllWindows()"
   ]
  },
  {
   "cell_type": "code",
   "execution_count": null,
   "id": "77c382a8",
   "metadata": {},
   "outputs": [],
   "source": []
  }
 ],
 "metadata": {
  "kernelspec": {
   "display_name": "Python 3 (ipykernel)",
   "language": "python",
   "name": "python3"
  },
  "language_info": {
   "codemirror_mode": {
    "name": "ipython",
    "version": 3
   },
   "file_extension": ".py",
   "mimetype": "text/x-python",
   "name": "python",
   "nbconvert_exporter": "python",
   "pygments_lexer": "ipython3",
   "version": "3.8.8"
  }
 },
 "nbformat": 4,
 "nbformat_minor": 5
}
